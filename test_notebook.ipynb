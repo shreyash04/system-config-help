{
  "cells": [
    {
      "cell_type": "code",
      "execution_count": null,
      "metadata": {},
      "outputs": [],
      "source": [
        "import sys\n",
        "print(\"Python version:\", sys.version)\n",
        "print(\"Python executable:\", sys.executable)"
      ]
    },
    {
      "cell_type": "code",
      "execution_count": null,
      "metadata": {},
      "outputs": [],
      "source": [
        "import jupyter_core\n",
        "import ipykernel\n",
        "print(\"\\nInstalled packages:\")\n",
        "print(\"jupyter_core version:\", jupyter_core.__version__)\n",
        "print(\"ipykernel version:\", ipykernel.__version__)"
      ]
    }
  ],
  "metadata": {
    "kernelspec": {
      "display_name": "virtual",
      "language": "python",
      "name": "python3"
    },
    "language_info": {
      "codemirror_mode": {
        "name": "ipython",
        "version": 3
      },
      "file_extension": ".py",
      "mimetype": "text/x-python",
      "name": "python",
      "nbconvert_exporter": "python",
      "pygments_lexer": "ipython3",
      "version": "3.12.7"
    }
  },
  "nbformat": 4,
  "nbformat_minor": 2
}
